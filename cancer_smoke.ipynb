{
 "cells": [
  {
   "cell_type": "code",
   "execution_count": 1,
   "metadata": {},
   "outputs": [],
   "source": [
    "import pandas as pd"
   ]
  },
  {
   "cell_type": "code",
   "execution_count": 2,
   "metadata": {},
   "outputs": [
    {
     "data": {
      "text/html": [
       "<div>\n",
       "<style scoped>\n",
       "    .dataframe tbody tr th:only-of-type {\n",
       "        vertical-align: middle;\n",
       "    }\n",
       "\n",
       "    .dataframe tbody tr th {\n",
       "        vertical-align: top;\n",
       "    }\n",
       "\n",
       "    .dataframe thead th {\n",
       "        text-align: right;\n",
       "    }\n",
       "</style>\n",
       "<table border=\"1\" class=\"dataframe\">\n",
       "  <thead>\n",
       "    <tr style=\"text-align: right;\">\n",
       "      <th></th>\n",
       "      <th>State</th>\n",
       "      <th>Average_of_2011to2015</th>\n",
       "    </tr>\n",
       "  </thead>\n",
       "  <tbody>\n",
       "    <tr>\n",
       "      <th>0</th>\n",
       "      <td>Alabama</td>\n",
       "      <td>22.42</td>\n",
       "    </tr>\n",
       "    <tr>\n",
       "      <th>1</th>\n",
       "      <td>Alaska</td>\n",
       "      <td>21.00</td>\n",
       "    </tr>\n",
       "    <tr>\n",
       "      <th>2</th>\n",
       "      <td>Arizona</td>\n",
       "      <td>16.64</td>\n",
       "    </tr>\n",
       "    <tr>\n",
       "      <th>3</th>\n",
       "      <td>Arkansas</td>\n",
       "      <td>25.50</td>\n",
       "    </tr>\n",
       "    <tr>\n",
       "      <th>4</th>\n",
       "      <td>California</td>\n",
       "      <td>12.66</td>\n",
       "    </tr>\n",
       "  </tbody>\n",
       "</table>\n",
       "</div>"
      ],
      "text/plain": [
       "        State  Average_of_2011to2015\n",
       "0     Alabama                  22.42\n",
       "1      Alaska                  21.00\n",
       "2     Arizona                  16.64\n",
       "3    Arkansas                  25.50\n",
       "4  California                  12.66"
      ]
     },
     "execution_count": 2,
     "metadata": {},
     "output_type": "execute_result"
    }
   ],
   "source": [
    "df_smoke = pd.read_csv(\"Smoke_Daily_by_State.csv\")\n",
    "df_smoke.head()"
   ]
  },
  {
   "cell_type": "code",
   "execution_count": 3,
   "metadata": {},
   "outputs": [
    {
     "data": {
      "text/html": [
       "<div>\n",
       "<style scoped>\n",
       "    .dataframe tbody tr th:only-of-type {\n",
       "        vertical-align: middle;\n",
       "    }\n",
       "\n",
       "    .dataframe tbody tr th {\n",
       "        vertical-align: top;\n",
       "    }\n",
       "\n",
       "    .dataframe thead th {\n",
       "        text-align: right;\n",
       "    }\n",
       "</style>\n",
       "<table border=\"1\" class=\"dataframe\">\n",
       "  <thead>\n",
       "    <tr style=\"text-align: right;\">\n",
       "      <th></th>\n",
       "      <th>County</th>\n",
       "      <th>Skin_IR</th>\n",
       "      <th>Lung_IR</th>\n",
       "      <th>Blood_IR</th>\n",
       "    </tr>\n",
       "  </thead>\n",
       "  <tbody>\n",
       "    <tr>\n",
       "      <th>0</th>\n",
       "      <td>Summit County, Utah</td>\n",
       "      <td>76.1</td>\n",
       "      <td>18.6</td>\n",
       "      <td>11.2</td>\n",
       "    </tr>\n",
       "    <tr>\n",
       "      <th>1</th>\n",
       "      <td>Towns County, Georgia</td>\n",
       "      <td>62.1</td>\n",
       "      <td>65.9</td>\n",
       "      <td>*</td>\n",
       "    </tr>\n",
       "    <tr>\n",
       "      <th>2</th>\n",
       "      <td>Pickens County, Georgia</td>\n",
       "      <td>61.6</td>\n",
       "      <td>81.5</td>\n",
       "      <td>16.4</td>\n",
       "    </tr>\n",
       "    <tr>\n",
       "      <th>3</th>\n",
       "      <td>Lumpkin County, Georgia</td>\n",
       "      <td>56.8</td>\n",
       "      <td>73.6</td>\n",
       "      <td>15.5</td>\n",
       "    </tr>\n",
       "    <tr>\n",
       "      <th>4</th>\n",
       "      <td>Forsyth County, Georgia</td>\n",
       "      <td>55.2</td>\n",
       "      <td>54.6</td>\n",
       "      <td>16.9</td>\n",
       "    </tr>\n",
       "  </tbody>\n",
       "</table>\n",
       "</div>"
      ],
      "text/plain": [
       "                    County Skin_IR Lung_IR Blood_IR\n",
       "0      Summit County, Utah    76.1    18.6     11.2\n",
       "1    Towns County, Georgia    62.1    65.9       * \n",
       "2  Pickens County, Georgia    61.6    81.5     16.4\n",
       "3  Lumpkin County, Georgia    56.8    73.6     15.5\n",
       "4  Forsyth County, Georgia    55.2    54.6     16.9"
      ]
     },
     "execution_count": 3,
     "metadata": {},
     "output_type": "execute_result"
    }
   ],
   "source": [
    "df_lung = pd.read_csv(\"lung_bycounty.csv\", encoding = 'ISO-8859-1')\n",
    "df_skin = pd.read_csv(\"skin_bycounty.csv\", encoding = 'ISO-8859-1')\n",
    "df_blood = pd.read_csv(\"leukemia_bycounty.csv\", encoding = 'ISO-8859-1')\n",
    "\n",
    "df_skin.columns = [\"County\", \"a\", \"Incidence Rate\", \"b\", \"c\", \"d\", \"e\", \"f\", \"g\", \"h\"]\n",
    "df_lung.columns = [\"County\", \"a\", \"a2\", \"Incidence Rate\", \"b\", \"c\", \"d\", \"e\", \"f\", \"g\", \"h\"]\n",
    "df_blood.columns = [\"County\", \"a\", \"a2\", \"Incidence Rate\", \"b\", \"c\", \"d\", \"e\", \"f\", \"g\", \"h\"]\n",
    "\n",
    "df_skin.drop(columns=[\"a\",\"b\", \"c\", \"d\", \"e\", \"f\", \"g\", \"h\"], inplace=True)\n",
    "df_lung.drop(columns=[\"a\", \"a2\", \"b\", \"c\", \"d\", \"e\", \"f\", \"g\", \"h\"], inplace=True)\n",
    "df_blood.drop(columns=[\"a\", \"a2\", \"b\", \"c\", \"d\", \"e\", \"f\", \"g\", \"h\"], inplace=True)\n",
    "\n",
    "df_skin[\"Incidence Rate\"] = df_skin[\"Incidence Rate\"].str.replace(\"#\", \"\")\n",
    "df_lung[\"Incidence Rate\"] = df_lung[\"Incidence Rate\"].str.replace(\"#\", \"\")\n",
    "df_blood[\"Incidence Rate\"] = df_blood[\"Incidence Rate\"].str.replace(\"#\", \"\")\n",
    "\n",
    "df_skin.drop(0, inplace=True)\n",
    "df_lung.drop(0, inplace=True)\n",
    "df_blood.drop(0, inplace=True)\n",
    "\n",
    "new_skin = df_skin[\"County\"].str.split(\"(\", n = 1, expand = True)\n",
    "df_skin[\"County\"]= new_skin[0]\n",
    "new_blood = df_blood[\"County\"].str.split(\"(\", n = 1, expand = True)\n",
    "df_blood[\"County\"]= new_blood[0]\n",
    "new_lung = df_lung[\"County\"].str.split(\"(\", n = 1, expand = True)\n",
    "df_lung[\"County\"]= new_lung[0]\n",
    "\n",
    "df_skin.rename(columns={\"Incidence Rate\": \"Skin_IR\"}, inplace=True)\n",
    "df_blood.rename(columns={\"Incidence Rate\": \"Blood_IR\"}, inplace=True)\n",
    "df_lung.rename(columns={\"Incidence Rate\": \"Lung_IR\"}, inplace=True)\n",
    "\n",
    "skin_lung_df = pd.merge(df_skin, df_lung, on='County')\n",
    "final_cancer_df = pd.merge(skin_lung_df, df_blood, on='County')\n",
    "\n",
    "final_cancer_df.head()"
   ]
  },
  {
   "cell_type": "code",
   "execution_count": 4,
   "metadata": {},
   "outputs": [
    {
     "data": {
      "text/html": [
       "<div>\n",
       "<style scoped>\n",
       "    .dataframe tbody tr th:only-of-type {\n",
       "        vertical-align: middle;\n",
       "    }\n",
       "\n",
       "    .dataframe tbody tr th {\n",
       "        vertical-align: top;\n",
       "    }\n",
       "\n",
       "    .dataframe thead th {\n",
       "        text-align: right;\n",
       "    }\n",
       "</style>\n",
       "<table border=\"1\" class=\"dataframe\">\n",
       "  <thead>\n",
       "    <tr style=\"text-align: right;\">\n",
       "      <th></th>\n",
       "      <th>County</th>\n",
       "      <th>Skin_IR</th>\n",
       "      <th>Lung_IR</th>\n",
       "      <th>Blood_IR</th>\n",
       "    </tr>\n",
       "  </thead>\n",
       "  <tbody>\n",
       "    <tr>\n",
       "      <th>0</th>\n",
       "      <td>Utah</td>\n",
       "      <td>76.1</td>\n",
       "      <td>18.6</td>\n",
       "      <td>11.2</td>\n",
       "    </tr>\n",
       "    <tr>\n",
       "      <th>1</th>\n",
       "      <td>Georgia</td>\n",
       "      <td>62.1</td>\n",
       "      <td>65.9</td>\n",
       "      <td>*</td>\n",
       "    </tr>\n",
       "    <tr>\n",
       "      <th>2</th>\n",
       "      <td>Georgia</td>\n",
       "      <td>61.6</td>\n",
       "      <td>81.5</td>\n",
       "      <td>16.4</td>\n",
       "    </tr>\n",
       "    <tr>\n",
       "      <th>3</th>\n",
       "      <td>Georgia</td>\n",
       "      <td>56.8</td>\n",
       "      <td>73.6</td>\n",
       "      <td>15.5</td>\n",
       "    </tr>\n",
       "    <tr>\n",
       "      <th>4</th>\n",
       "      <td>Georgia</td>\n",
       "      <td>55.2</td>\n",
       "      <td>54.6</td>\n",
       "      <td>16.9</td>\n",
       "    </tr>\n",
       "  </tbody>\n",
       "</table>\n",
       "</div>"
      ],
      "text/plain": [
       "    County Skin_IR Lung_IR Blood_IR\n",
       "0     Utah    76.1    18.6     11.2\n",
       "1  Georgia    62.1    65.9       * \n",
       "2  Georgia    61.6    81.5     16.4\n",
       "3  Georgia    56.8    73.6     15.5\n",
       "4  Georgia    55.2    54.6     16.9"
      ]
     },
     "execution_count": 4,
     "metadata": {},
     "output_type": "execute_result"
    }
   ],
   "source": [
    "new_state = final_cancer_df[\"County\"].str.split(\" \", n = 2, expand = True)\n",
    "final_cancer_df[\"County\"] = new_state[2]\n",
    "final_cancer_df.head()"
   ]
  },
  {
   "cell_type": "code",
   "execution_count": 5,
   "metadata": {},
   "outputs": [],
   "source": [
    "final_cancer_df.rename(columns={\"County\": \"State\"}, inplace=True)"
   ]
  },
  {
   "cell_type": "code",
   "execution_count": 6,
   "metadata": {},
   "outputs": [
    {
     "data": {
      "text/html": [
       "<div>\n",
       "<style scoped>\n",
       "    .dataframe tbody tr th:only-of-type {\n",
       "        vertical-align: middle;\n",
       "    }\n",
       "\n",
       "    .dataframe tbody tr th {\n",
       "        vertical-align: top;\n",
       "    }\n",
       "\n",
       "    .dataframe thead th {\n",
       "        text-align: right;\n",
       "    }\n",
       "</style>\n",
       "<table border=\"1\" class=\"dataframe\">\n",
       "  <thead>\n",
       "    <tr style=\"text-align: right;\">\n",
       "      <th></th>\n",
       "      <th>State</th>\n",
       "      <th>Skin_IR</th>\n",
       "      <th>Lung_IR</th>\n",
       "      <th>Blood_IR</th>\n",
       "    </tr>\n",
       "  </thead>\n",
       "  <tbody>\n",
       "    <tr>\n",
       "      <th>0</th>\n",
       "      <td>Utah</td>\n",
       "      <td>76.1</td>\n",
       "      <td>18.6</td>\n",
       "      <td>11.2</td>\n",
       "    </tr>\n",
       "    <tr>\n",
       "      <th>1</th>\n",
       "      <td>Georgia</td>\n",
       "      <td>62.1</td>\n",
       "      <td>65.9</td>\n",
       "      <td>*</td>\n",
       "    </tr>\n",
       "    <tr>\n",
       "      <th>2</th>\n",
       "      <td>Georgia</td>\n",
       "      <td>61.6</td>\n",
       "      <td>81.5</td>\n",
       "      <td>16.4</td>\n",
       "    </tr>\n",
       "    <tr>\n",
       "      <th>3</th>\n",
       "      <td>Georgia</td>\n",
       "      <td>56.8</td>\n",
       "      <td>73.6</td>\n",
       "      <td>15.5</td>\n",
       "    </tr>\n",
       "    <tr>\n",
       "      <th>4</th>\n",
       "      <td>Georgia</td>\n",
       "      <td>55.2</td>\n",
       "      <td>54.6</td>\n",
       "      <td>16.9</td>\n",
       "    </tr>\n",
       "  </tbody>\n",
       "</table>\n",
       "</div>"
      ],
      "text/plain": [
       "     State Skin_IR Lung_IR Blood_IR\n",
       "0     Utah    76.1    18.6     11.2\n",
       "1  Georgia    62.1    65.9       * \n",
       "2  Georgia    61.6    81.5     16.4\n",
       "3  Georgia    56.8    73.6     15.5\n",
       "4  Georgia    55.2    54.6     16.9"
      ]
     },
     "execution_count": 6,
     "metadata": {},
     "output_type": "execute_result"
    }
   ],
   "source": [
    "final_cancer_df.head()"
   ]
  },
  {
   "cell_type": "code",
   "execution_count": 7,
   "metadata": {},
   "outputs": [],
   "source": [
    "final_cancer_df.Skin_IR = final_cancer_df.Skin_IR.str.replace(\"*\", \"\")\n",
    "final_cancer_df.Lung_IR = final_cancer_df.Lung_IR.str.replace(\"*\", \"\")\n",
    "final_cancer_df.Blood_IR = final_cancer_df.Blood_IR.str.replace(\"*\", \"\")"
   ]
  },
  {
   "cell_type": "code",
   "execution_count": 9,
   "metadata": {},
   "outputs": [],
   "source": [
    "import numpy as np"
   ]
  },
  {
   "cell_type": "code",
   "execution_count": 10,
   "metadata": {},
   "outputs": [
    {
     "data": {
      "text/html": [
       "<div>\n",
       "<style scoped>\n",
       "    .dataframe tbody tr th:only-of-type {\n",
       "        vertical-align: middle;\n",
       "    }\n",
       "\n",
       "    .dataframe tbody tr th {\n",
       "        vertical-align: top;\n",
       "    }\n",
       "\n",
       "    .dataframe thead th {\n",
       "        text-align: right;\n",
       "    }\n",
       "</style>\n",
       "<table border=\"1\" class=\"dataframe\">\n",
       "  <thead>\n",
       "    <tr style=\"text-align: right;\">\n",
       "      <th></th>\n",
       "      <th>Skin_IR</th>\n",
       "      <th>Lung_IR</th>\n",
       "      <th>Blood_IR</th>\n",
       "    </tr>\n",
       "    <tr>\n",
       "      <th>State</th>\n",
       "      <th></th>\n",
       "      <th></th>\n",
       "      <th></th>\n",
       "    </tr>\n",
       "  </thead>\n",
       "  <tbody>\n",
       "    <tr>\n",
       "      <th>Alabama</th>\n",
       "      <td>20.765854</td>\n",
       "      <td>70.195122</td>\n",
       "      <td>12.809756</td>\n",
       "    </tr>\n",
       "    <tr>\n",
       "      <th>Alaska</th>\n",
       "      <td>16.300000</td>\n",
       "      <td>59.700000</td>\n",
       "      <td>11.500000</td>\n",
       "    </tr>\n",
       "    <tr>\n",
       "      <th>Arizona</th>\n",
       "      <td>17.558333</td>\n",
       "      <td>46.083333</td>\n",
       "      <td>11.950000</td>\n",
       "    </tr>\n",
       "    <tr>\n",
       "      <th>Arkansas</th>\n",
       "      <td>20.008571</td>\n",
       "      <td>82.540000</td>\n",
       "      <td>13.822857</td>\n",
       "    </tr>\n",
       "    <tr>\n",
       "      <th>Borough, Alaska</th>\n",
       "      <td>12.800000</td>\n",
       "      <td>57.600000</td>\n",
       "      <td>9.800000</td>\n",
       "    </tr>\n",
       "  </tbody>\n",
       "</table>\n",
       "</div>"
      ],
      "text/plain": [
       "                   Skin_IR    Lung_IR   Blood_IR\n",
       "State                                           \n",
       "Alabama          20.765854  70.195122  12.809756\n",
       "Alaska           16.300000  59.700000  11.500000\n",
       "Arizona          17.558333  46.083333  11.950000\n",
       "Arkansas         20.008571  82.540000  13.822857\n",
       "Borough, Alaska  12.800000  57.600000   9.800000"
      ]
     },
     "execution_count": 10,
     "metadata": {},
     "output_type": "execute_result"
    }
   ],
   "source": [
    "final_cancer_df[final_cancer_df.Blood_IR==' '] = np.nan\n",
    "final_cancer_df[\"Blood_IR\"]= final_cancer_df[\"Blood_IR\"].astype(\"float\")\n",
    "final_cancer_df[\"Skin_IR\"]= final_cancer_df[\"Skin_IR\"].astype(\"float\")\n",
    "final_cancer_df[\"Lung_IR\"]= final_cancer_df[\"Lung_IR\"].astype(\"float\")\n",
    "new_final_cancer_df = final_cancer_df.groupby(\"State\").mean()\n",
    "new_final_cancer_df.head()"
   ]
  },
  {
   "cell_type": "code",
   "execution_count": 12,
   "metadata": {},
   "outputs": [
    {
     "data": {
      "text/html": [
       "<div>\n",
       "<style scoped>\n",
       "    .dataframe tbody tr th:only-of-type {\n",
       "        vertical-align: middle;\n",
       "    }\n",
       "\n",
       "    .dataframe tbody tr th {\n",
       "        vertical-align: top;\n",
       "    }\n",
       "\n",
       "    .dataframe thead th {\n",
       "        text-align: right;\n",
       "    }\n",
       "</style>\n",
       "<table border=\"1\" class=\"dataframe\">\n",
       "  <thead>\n",
       "    <tr style=\"text-align: right;\">\n",
       "      <th></th>\n",
       "      <th>State</th>\n",
       "      <th>Smoking Rate</th>\n",
       "    </tr>\n",
       "  </thead>\n",
       "  <tbody>\n",
       "    <tr>\n",
       "      <th>0</th>\n",
       "      <td>Alabama</td>\n",
       "      <td>22.42</td>\n",
       "    </tr>\n",
       "    <tr>\n",
       "      <th>1</th>\n",
       "      <td>Alaska</td>\n",
       "      <td>21.00</td>\n",
       "    </tr>\n",
       "    <tr>\n",
       "      <th>2</th>\n",
       "      <td>Arizona</td>\n",
       "      <td>16.64</td>\n",
       "    </tr>\n",
       "    <tr>\n",
       "      <th>3</th>\n",
       "      <td>Arkansas</td>\n",
       "      <td>25.50</td>\n",
       "    </tr>\n",
       "    <tr>\n",
       "      <th>4</th>\n",
       "      <td>California</td>\n",
       "      <td>12.66</td>\n",
       "    </tr>\n",
       "  </tbody>\n",
       "</table>\n",
       "</div>"
      ],
      "text/plain": [
       "        State  Smoking Rate\n",
       "0     Alabama         22.42\n",
       "1      Alaska         21.00\n",
       "2     Arizona         16.64\n",
       "3    Arkansas         25.50\n",
       "4  California         12.66"
      ]
     },
     "execution_count": 12,
     "metadata": {},
     "output_type": "execute_result"
    }
   ],
   "source": [
    "df_smoke.rename(columns={\"Average_of_2011to2015\": \"Smoking Rate\"}, inplace=True)\n",
    "df_smoke.head()"
   ]
  },
  {
   "cell_type": "code",
   "execution_count": 13,
   "metadata": {},
   "outputs": [
    {
     "data": {
      "text/html": [
       "<div>\n",
       "<style scoped>\n",
       "    .dataframe tbody tr th:only-of-type {\n",
       "        vertical-align: middle;\n",
       "    }\n",
       "\n",
       "    .dataframe tbody tr th {\n",
       "        vertical-align: top;\n",
       "    }\n",
       "\n",
       "    .dataframe thead th {\n",
       "        text-align: right;\n",
       "    }\n",
       "</style>\n",
       "<table border=\"1\" class=\"dataframe\">\n",
       "  <thead>\n",
       "    <tr style=\"text-align: right;\">\n",
       "      <th></th>\n",
       "      <th>State</th>\n",
       "      <th>Skin_IR</th>\n",
       "      <th>Lung_IR</th>\n",
       "      <th>Blood_IR</th>\n",
       "      <th>Smoking Rate</th>\n",
       "    </tr>\n",
       "  </thead>\n",
       "  <tbody>\n",
       "    <tr>\n",
       "      <th>0</th>\n",
       "      <td>Alabama</td>\n",
       "      <td>20.765854</td>\n",
       "      <td>70.195122</td>\n",
       "      <td>12.809756</td>\n",
       "      <td>22.42</td>\n",
       "    </tr>\n",
       "    <tr>\n",
       "      <th>1</th>\n",
       "      <td>Alaska</td>\n",
       "      <td>16.300000</td>\n",
       "      <td>59.700000</td>\n",
       "      <td>11.500000</td>\n",
       "      <td>21.00</td>\n",
       "    </tr>\n",
       "    <tr>\n",
       "      <th>2</th>\n",
       "      <td>Arizona</td>\n",
       "      <td>17.558333</td>\n",
       "      <td>46.083333</td>\n",
       "      <td>11.950000</td>\n",
       "      <td>16.64</td>\n",
       "    </tr>\n",
       "    <tr>\n",
       "      <th>3</th>\n",
       "      <td>Arkansas</td>\n",
       "      <td>20.008571</td>\n",
       "      <td>82.540000</td>\n",
       "      <td>13.822857</td>\n",
       "      <td>25.50</td>\n",
       "    </tr>\n",
       "    <tr>\n",
       "      <th>4</th>\n",
       "      <td>California</td>\n",
       "      <td>26.113158</td>\n",
       "      <td>49.544737</td>\n",
       "      <td>14.105263</td>\n",
       "      <td>12.66</td>\n",
       "    </tr>\n",
       "  </tbody>\n",
       "</table>\n",
       "</div>"
      ],
      "text/plain": [
       "        State    Skin_IR    Lung_IR   Blood_IR  Smoking Rate\n",
       "0     Alabama  20.765854  70.195122  12.809756         22.42\n",
       "1      Alaska  16.300000  59.700000  11.500000         21.00\n",
       "2     Arizona  17.558333  46.083333  11.950000         16.64\n",
       "3    Arkansas  20.008571  82.540000  13.822857         25.50\n",
       "4  California  26.113158  49.544737  14.105263         12.66"
      ]
     },
     "execution_count": 13,
     "metadata": {},
     "output_type": "execute_result"
    }
   ],
   "source": [
    "final_df = pd.merge(new_final_cancer_df, df_smoke, on='State')\n",
    "final_df.head()"
   ]
  },
  {
   "cell_type": "code",
   "execution_count": 14,
   "metadata": {},
   "outputs": [],
   "source": [
    "import matplotlib.pyplot as plt"
   ]
  },
  {
   "cell_type": "code",
   "execution_count": 16,
   "metadata": {},
   "outputs": [
    {
     "data": {
      "image/png": "[encoded data removed]",
      "text/plain": [
       "<Figure size 432x288 with 1 Axes>"
      ]
     },
     "metadata": {
      "needs_background": "light"
     },
     "output_type": "display_data"
    }
   ],
   "source": [
    "plt.plot(final_df[\"Smoking Rate\"], final_df[\"Lung_IR\"], \"bo\")\n",
    "plt.title(\"Smoking vs Lun Cancer Incidence Rate\")\n",
    "plt.xlabel(\"Smoking Rate\")\n",
    "plt.ylabel(\"Incidence Rate\")\n",
    "plt.savefig(\"Images/smoke_lung.png\")\n",
    "plt.show()"
   ]
  },
  {
   "cell_type": "code",
   "execution_count": 17,
   "metadata": {},
   "outputs": [
    {
     "data": {
      "image/png": "[encoded data removed]",
      "text/plain": [
       "<Figure size 432x288 with 1 Axes>"
      ]
     },
     "metadata": {
      "needs_background": "light"
     },
     "output_type": "display_data"
    }
   ],
   "source": [
    "plt.plot(final_df[\"Smoking Rate\"], final_df[\"Blood_IR\"], \"bo\")\n",
    "plt.title(\"Smoking vs Leukemia Incidence Rate\")\n",
    "plt.xlabel(\"Smoking Rate\")\n",
    "plt.ylabel(\"Incidence Rate\")\n",
    "plt.savefig(\"Images/smoke_blood.png\")\n",
    "plt.show()"
   ]
  },
  {
   "cell_type": "code",
   "execution_count": 18,
   "metadata": {},
   "outputs": [
    {
     "data": {
      "image/png": "[encoded data removed]",
      "text/plain": [
       "<Figure size 432x288 with 1 Axes>"
      ]
     },
     "metadata": {
      "needs_background": "light"
     },
     "output_type": "display_data"
    }
   ],
   "source": [
    "plt.plot(final_df[\"Smoking Rate\"], final_df[\"Skin_IR\"], \"bo\")\n",
    "plt.title(\"Smoking vs Skin Cancer Incidence Rate\")\n",
    "plt.xlabel(\"Smoking Rate\")\n",
    "plt.ylabel(\"Incidence Rate\")\n",
    "plt.savefig(\"Images/smoke_skin.png\")\n",
    "plt.show()"
   ]
  },
  {
   "cell_type": "code",
   "execution_count": null,
   "metadata": {},
   "outputs": [],
   "source": []
  }
 ],
 "metadata": {
  "kernelspec": {
   "display_name": "Python 3",
   "language": "python",
   "name": "python3"
  },
  "language_info": {
   "codemirror_mode": {
    "name": "ipython",
    "version": 3
   },
   "file_extension": ".py",
   "mimetype": "text/x-python",
   "name": "python",
   "nbconvert_exporter": "python",
   "pygments_lexer": "ipython3",
   "version": "3.7.1"
  }
 },
 "nbformat": 4,
 "nbformat_minor": 2
}
